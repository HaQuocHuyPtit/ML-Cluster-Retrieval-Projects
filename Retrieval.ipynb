{
 "cells": [
  {
   "cell_type": "markdown",
   "metadata": {},
   "source": [
    "# Nearest Neighbors"
   ]
  },
  {
   "cell_type": "markdown",
   "metadata": {},
   "source": [
    "When exploring a large set of documents -- such as Wikipedia, news articles, StackOverflow, etc. -- it can be useful to get a list of related material. To find relevant documents you typically\n",
    "* Decide on a notion of similarity\n",
    "* Find the documents that are most similar \n",
    "\n",
    "In the assignment you will\n",
    "* Gain intuition for different notions of similarity and practice finding similar documents. \n",
    "* Explore the tradeoffs with representing documents using raw word counts and TF-IDF\n",
    "* Explore the behavior of different distance metrics by looking at the Wikipedia pages most similar to President Obama’s page."
   ]
  },
  {
   "cell_type": "markdown",
   "metadata": {},
   "source": [
    "## Import necessary packages"
   ]
  },
  {
   "cell_type": "markdown",
   "metadata": {},
   "source": [
    "As usual we need to first import the Python packages that we will need."
   ]
  },
  {
   "cell_type": "code",
   "execution_count": 1,
   "metadata": {},
   "outputs": [],
   "source": [
    "#from __future__ import print_function # to conform python 2.x print to python 3.x\n",
    "#import turicreate\n",
    "import matplotlib.pyplot as plt\n",
    "import numpy as np\n",
    "import pandas as pd\n",
    "%matplotlib inline"
   ]
  },
  {
   "cell_type": "markdown",
   "metadata": {},
   "source": [
    "## Load Wikipedia dataset"
   ]
  },
  {
   "cell_type": "markdown",
   "metadata": {},
   "source": [
    "We will be using the same dataset of Wikipedia pages that we used in the Machine Learning Foundations course (Course 1). Each element of the dataset consists of a link to the wikipedia article, the name of the person, and the text of the article (in lowercase).  "
   ]
  },
  {
   "cell_type": "code",
   "execution_count": 2,
   "metadata": {},
   "outputs": [],
   "source": [
    "#wiki = turicreate.SFrame('people_wiki.sframe')\n",
    "data = pd.read_csv('people_wiki.csv', header=0)"
   ]
  },
  {
   "cell_type": "code",
   "execution_count": 3,
   "metadata": {},
   "outputs": [
    {
     "data": {
      "text/html": [
       "<div>\n",
       "<style scoped>\n",
       "    .dataframe tbody tr th:only-of-type {\n",
       "        vertical-align: middle;\n",
       "    }\n",
       "\n",
       "    .dataframe tbody tr th {\n",
       "        vertical-align: top;\n",
       "    }\n",
       "\n",
       "    .dataframe thead th {\n",
       "        text-align: right;\n",
       "    }\n",
       "</style>\n",
       "<table border=\"1\" class=\"dataframe\">\n",
       "  <thead>\n",
       "    <tr style=\"text-align: right;\">\n",
       "      <th></th>\n",
       "      <th>URI</th>\n",
       "      <th>name</th>\n",
       "      <th>text</th>\n",
       "    </tr>\n",
       "  </thead>\n",
       "  <tbody>\n",
       "    <tr>\n",
       "      <td>0</td>\n",
       "      <td>&lt;http://dbpedia.org/resource/Digby_Morrell&gt;</td>\n",
       "      <td>Digby Morrell</td>\n",
       "      <td>digby morrell born 10 october 1979 is a former...</td>\n",
       "    </tr>\n",
       "    <tr>\n",
       "      <td>1</td>\n",
       "      <td>&lt;http://dbpedia.org/resource/Alfred_J._Lewy&gt;</td>\n",
       "      <td>Alfred J. Lewy</td>\n",
       "      <td>alfred j lewy aka sandy lewy graduated from un...</td>\n",
       "    </tr>\n",
       "    <tr>\n",
       "      <td>2</td>\n",
       "      <td>&lt;http://dbpedia.org/resource/Harpdog_Brown&gt;</td>\n",
       "      <td>Harpdog Brown</td>\n",
       "      <td>harpdog brown is a singer and harmonica player...</td>\n",
       "    </tr>\n",
       "    <tr>\n",
       "      <td>3</td>\n",
       "      <td>&lt;http://dbpedia.org/resource/Franz_Rottensteiner&gt;</td>\n",
       "      <td>Franz Rottensteiner</td>\n",
       "      <td>franz rottensteiner born in waidmannsfeld lowe...</td>\n",
       "    </tr>\n",
       "    <tr>\n",
       "      <td>4</td>\n",
       "      <td>&lt;http://dbpedia.org/resource/G-Enka&gt;</td>\n",
       "      <td>G-Enka</td>\n",
       "      <td>henry krvits born 30 december 1974 in tallinn ...</td>\n",
       "    </tr>\n",
       "  </tbody>\n",
       "</table>\n",
       "</div>"
      ],
      "text/plain": [
       "                                                 URI                 name  \\\n",
       "0        <http://dbpedia.org/resource/Digby_Morrell>        Digby Morrell   \n",
       "1       <http://dbpedia.org/resource/Alfred_J._Lewy>       Alfred J. Lewy   \n",
       "2        <http://dbpedia.org/resource/Harpdog_Brown>        Harpdog Brown   \n",
       "3  <http://dbpedia.org/resource/Franz_Rottensteiner>  Franz Rottensteiner   \n",
       "4               <http://dbpedia.org/resource/G-Enka>               G-Enka   \n",
       "\n",
       "                                                text  \n",
       "0  digby morrell born 10 october 1979 is a former...  \n",
       "1  alfred j lewy aka sandy lewy graduated from un...  \n",
       "2  harpdog brown is a singer and harmonica player...  \n",
       "3  franz rottensteiner born in waidmannsfeld lowe...  \n",
       "4  henry krvits born 30 december 1974 in tallinn ...  "
      ]
     },
     "execution_count": 3,
     "metadata": {},
     "output_type": "execute_result"
    }
   ],
   "source": [
    "data.head()"
   ]
  },
  {
   "cell_type": "markdown",
   "metadata": {},
   "source": [
    "## Extract word count vectors"
   ]
  },
  {
   "cell_type": "markdown",
   "metadata": {},
   "source": [
    "As we have seen in Course 1, we can extract word count vectors using a Scikit-learn's `CountVectorizer` class.  We keep this as a `wiki_word_count`, which is a `scipy.sparse` matrix specialized in sparse data (big dimensions with comparatively few numbers)"
   ]
  },
  {
   "cell_type": "code",
   "execution_count": 4,
   "metadata": {},
   "outputs": [],
   "source": [
    "from sklearn.feature_extraction.text import CountVectorizer\n",
    "#from nltk import word_tokenize\n",
    "vectorizer = CountVectorizer() #max_features=200000, tokenizer=word_tokenize\n",
    "wiki_word_count = vectorizer.fit_transform(data[\"text\"])"
   ]
  },
  {
   "cell_type": "code",
   "execution_count": 5,
   "metadata": {},
   "outputs": [
    {
     "data": {
      "text/plain": [
       "(59071, 548429)"
      ]
     },
     "execution_count": 5,
     "metadata": {},
     "output_type": "execute_result"
    }
   ],
   "source": [
    "#data.describe()\n",
    "np.shape(wiki_word_count)"
   ]
  },
  {
   "cell_type": "markdown",
   "metadata": {},
   "source": [
    "## Find nearest neighbors"
   ]
  },
  {
   "cell_type": "markdown",
   "metadata": {},
   "source": [
    "Let's start by finding the nearest neighbors of the Barack Obama page using the word count vectors to represent the articles and Euclidean distance to measure distance.  For this, again will we will use a nifty implementation of nearest neighbor search."
   ]
  },
  {
   "cell_type": "code",
   "execution_count": 6,
   "metadata": {},
   "outputs": [
    {
     "data": {
      "text/plain": [
       "NearestNeighbors(algorithm='auto', leaf_size=30, metric='euclidean',\n",
       "                 metric_params=None, n_jobs=None, n_neighbors=5, p=2,\n",
       "                 radius=1.0)"
      ]
     },
     "execution_count": 6,
     "metadata": {},
     "output_type": "execute_result"
    }
   ],
   "source": [
    "#model = turicreate.nearest_neighbors.create(wiki, label='name', features=['word_count'],\n",
    "#                                            method='brute_force', distance='euclidean')\n",
    "from sklearn.neighbors import NearestNeighbors\n",
    "#inspect.signature(NearestNeighbors.__init__)\n",
    "model = NearestNeighbors(metric='euclidean')\n",
    "model.fit(wiki_word_count)"
   ]
  },
  {
   "cell_type": "markdown",
   "metadata": {},
   "source": [
    "Let's look at the top 10 nearest neighbors by performing the following query:"
   ]
  },
  {
   "cell_type": "code",
   "execution_count": 7,
   "metadata": {
    "scrolled": false
   },
   "outputs": [],
   "source": [
    "#model.query(wiki[wiki['name']=='Barack Obama'], label='name', k=10)\n",
    "query_index = pd.Index(data['name']).get_loc('Barack Obama')\n",
    "query = wiki_word_count[query_index]\n",
    "indices = model.kneighbors(query, n_neighbors=11, return_distance=False)"
   ]
  },
  {
   "cell_type": "code",
   "execution_count": 8,
   "metadata": {},
   "outputs": [
    {
     "name": "stdout",
     "output_type": "stream",
     "text": [
      "Nearest neighbors found:\n",
      " 24478                     Joe Biden\n",
      "28447                George W. Bush\n",
      "14754                   Mitt Romney\n",
      "35357              Lawrence Summers\n",
      "31423                Walter Mondale\n",
      "13229              Francisco Barrio\n",
      "36364                    Don Bonker\n",
      "22745    Wynn Normington Hugh-Jones\n",
      "7660       Refael (Rafi) Benvenisti\n",
      "9210                   Andy Anstett\n",
      "Name: name, dtype: object\n"
     ]
    }
   ],
   "source": [
    "print(\"Nearest neighbors found:\\n\", data['name'].iloc[indices[0][1:]])"
   ]
  },
  {
   "cell_type": "markdown",
   "metadata": {},
   "source": [
    "All of the 10 people are politicians, but about half of them have rather tenuous connections with Obama, other than the fact that they are politicians.\n",
    "\n",
    "* Francisco Barrio is a Mexican politician, and a former governor of Chihuahua.\n",
    "* Walter Mondale and Don Bonker are Democrats who made their career in late 1970s.\n",
    "* Wynn Normington Hugh-Jones is a former British diplomat and Liberal Party official.\n",
    "* Andy Anstett is a former politician in Manitoba, Canada.\n",
    "\n",
    "Nearest neighbors with raw word counts got some things right, showing all politicians in the query result, but missed finer and important details.\n",
    "\n",
    "For instance, let's find out why Francisco Barrio was considered a close neighbor of Obama.  To do this, let's look at the most frequently used words in each of Barack Obama and Francisco Barrio's pages:"
   ]
  },
  {
   "cell_type": "code",
   "execution_count": 9,
   "metadata": {},
   "outputs": [],
   "source": [
    "idx_lookup_vocab = {i:w for w, i in vectorizer.vocabulary_.items()}\n",
    "def top_words(name, most_freq_count=10):\n",
    "    \"\"\"\n",
    "    Get a table of the most frequent words in the given person's wikipedia page.\n",
    "    \"\"\"\n",
    "    query_index = pd.Index(data['name']).get_loc(name)\n",
    "    word_count_raw = wiki_word_count[query_index].toarray().ravel()\n",
    "    print(np.shape(wiki_word_count), np.shape(word_count_raw))\n",
    "    # reverse the word count to argsort from highest to lowest (sort default to ascending)\n",
    "    best_words_ids = np.argsort(word_count_raw, axis=-1)[::-1][:most_freq_count]\n",
    "    print(query_index, np.shape(word_count_raw), best_words_ids)\n",
    "    best_words = [idx_lookup_vocab[idx] for idx in best_words_ids]\n",
    "#    word_count_table = row[['word_count']].stack('word_count', new_column_name=['word','count'])\n",
    "    return best_words"
   ]
  },
  {
   "cell_type": "code",
   "execution_count": 10,
   "metadata": {},
   "outputs": [
    {
     "name": "stdout",
     "output_type": "stream",
     "text": [
      "(59071, 548429) (548429,)\n",
      "35817 (548429,) [488148 251905  58906 360068 494541 239271 358557  45073 233774 512199]\n"
     ]
    },
    {
     "data": {
      "text/plain": [
       "['the', 'in', 'and', 'of', 'to', 'his', 'obama', 'act', 'he', 'us']"
      ]
     },
     "execution_count": 10,
     "metadata": {},
     "output_type": "execute_result"
    }
   ],
   "source": [
    "obama_words = top_words('Barack Obama')\n",
    "obama_words"
   ]
  },
  {
   "cell_type": "code",
   "execution_count": 11,
   "metadata": {},
   "outputs": [
    {
     "name": "stdout",
     "output_type": "stream",
     "text": [
      "(59071, 548429) (548429,)\n",
      "13229 (548429,) [488148 360068  58906 251905 233774 494541 121657 221605  68179 239271]\n"
     ]
    },
    {
     "data": {
      "text/plain": [
       "['the', 'of', 'and', 'in', 'he', 'to', 'chihuahua', 'governor', 'as', 'his']"
      ]
     },
     "execution_count": 11,
     "metadata": {},
     "output_type": "execute_result"
    }
   ],
   "source": [
    "barrio_words = top_words('Francisco Barrio')\n",
    "barrio_words"
   ]
  },
  {
   "cell_type": "markdown",
   "metadata": {},
   "source": [
    "Let's extract the list of most frequent words that appear in both Obama's and Barrio's documents. We've so far sorted all words from Obama and Barrio's articles by their word frequencies. We will now use a dataframe operation known as **join**. The **join** operation is very useful when it comes to playing around with data: it lets you combine the content of two tables using a shared column (in this case, the word column). See [the documentation](https://pandas.pydata.org/pandas-docs/stable/reference/api/pandas.DataFrame.join.html) for more details.\n",
    "\n",
    "For instance, running\n",
    "```\n",
    "obama_words_frame.join(barrio_words_frame)\n",
    "```\n",
    "will extract the rows from both tables that correspond to the common words. Note that it will join on the index, so both dataframe either must be made from a pandas `Series` or have already set the column to join as index."
   ]
  },
  {
   "cell_type": "code",
   "execution_count": 12,
   "metadata": {},
   "outputs": [],
   "source": [
    "from collections import Counter\n",
    "def create_series_from_text(text):\n",
    "    word_counter = Counter(text.strip().split())\n",
    "    words, numwords = zip(*word_counter.items())\n",
    "    return pd.Series(data=numwords, index=words)\n",
    "def create_series_from_name(name):\n",
    "    return create_series_from_text(data[data[\"name\"] == name][\"text\"].iloc[0])"
   ]
  },
  {
   "cell_type": "code",
   "execution_count": 13,
   "metadata": {},
   "outputs": [
    {
     "data": {
      "text/html": [
       "<div>\n",
       "<style scoped>\n",
       "    .dataframe tbody tr th:only-of-type {\n",
       "        vertical-align: middle;\n",
       "    }\n",
       "\n",
       "    .dataframe tbody tr th {\n",
       "        vertical-align: top;\n",
       "    }\n",
       "\n",
       "    .dataframe thead th {\n",
       "        text-align: right;\n",
       "    }\n",
       "</style>\n",
       "<table border=\"1\" class=\"dataframe\">\n",
       "  <thead>\n",
       "    <tr style=\"text-align: right;\">\n",
       "      <th></th>\n",
       "      <th>Obama</th>\n",
       "      <th>Barrio</th>\n",
       "    </tr>\n",
       "  </thead>\n",
       "  <tbody>\n",
       "    <tr>\n",
       "      <td>13th</td>\n",
       "      <td>1.0</td>\n",
       "      <td>NaN</td>\n",
       "    </tr>\n",
       "    <tr>\n",
       "      <td>1950</td>\n",
       "      <td>NaN</td>\n",
       "      <td>1.0</td>\n",
       "    </tr>\n",
       "    <tr>\n",
       "      <td>1961</td>\n",
       "      <td>1.0</td>\n",
       "      <td>NaN</td>\n",
       "    </tr>\n",
       "    <tr>\n",
       "      <td>1983</td>\n",
       "      <td>NaN</td>\n",
       "      <td>1.0</td>\n",
       "    </tr>\n",
       "    <tr>\n",
       "      <td>1986</td>\n",
       "      <td>NaN</td>\n",
       "      <td>1.0</td>\n",
       "    </tr>\n",
       "    <tr>\n",
       "      <td>...</td>\n",
       "      <td>...</td>\n",
       "      <td>...</td>\n",
       "    </tr>\n",
       "    <tr>\n",
       "      <td>women</td>\n",
       "      <td>NaN</td>\n",
       "      <td>1.0</td>\n",
       "    </tr>\n",
       "    <tr>\n",
       "      <td>won</td>\n",
       "      <td>1.0</td>\n",
       "      <td>1.0</td>\n",
       "    </tr>\n",
       "    <tr>\n",
       "      <td>wore</td>\n",
       "      <td>NaN</td>\n",
       "      <td>1.0</td>\n",
       "    </tr>\n",
       "    <tr>\n",
       "      <td>worked</td>\n",
       "      <td>1.0</td>\n",
       "      <td>1.0</td>\n",
       "    </tr>\n",
       "    <tr>\n",
       "      <td>years</td>\n",
       "      <td>1.0</td>\n",
       "      <td>3.0</td>\n",
       "    </tr>\n",
       "  </tbody>\n",
       "</table>\n",
       "<p>442 rows × 2 columns</p>\n",
       "</div>"
      ],
      "text/plain": [
       "        Obama  Barrio\n",
       "13th      1.0     NaN\n",
       "1950      NaN     1.0\n",
       "1961      1.0     NaN\n",
       "1983      NaN     1.0\n",
       "1986      NaN     1.0\n",
       "...       ...     ...\n",
       "women     NaN     1.0\n",
       "won       1.0     1.0\n",
       "wore      NaN     1.0\n",
       "worked    1.0     1.0\n",
       "years     1.0     3.0\n",
       "\n",
       "[442 rows x 2 columns]"
      ]
     },
     "execution_count": 13,
     "metadata": {},
     "output_type": "execute_result"
    }
   ],
   "source": [
    "obama_words = create_series_from_name(\"Barack Obama\")\n",
    "barrio_words = create_series_from_name(\"Francisco Barrio\")\n",
    "combined_words = obama_words.to_frame(name=\"Obama\").join(barrio_words.to_frame(name=\"Barrio\"), how=\"outer\")\n",
    "combined_words"
   ]
  },
  {
   "cell_type": "markdown",
   "metadata": {},
   "source": [
    "As you can see, when the dataframe is joined as *outer*, the missing values are **NaN**. To resolve this, we use operation `.fillna` to fill it with the correct values"
   ]
  },
  {
   "cell_type": "code",
   "execution_count": 14,
   "metadata": {},
   "outputs": [
    {
     "data": {
      "text/html": [
       "<div>\n",
       "<style scoped>\n",
       "    .dataframe tbody tr th:only-of-type {\n",
       "        vertical-align: middle;\n",
       "    }\n",
       "\n",
       "    .dataframe tbody tr th {\n",
       "        vertical-align: top;\n",
       "    }\n",
       "\n",
       "    .dataframe thead th {\n",
       "        text-align: right;\n",
       "    }\n",
       "</style>\n",
       "<table border=\"1\" class=\"dataframe\">\n",
       "  <thead>\n",
       "    <tr style=\"text-align: right;\">\n",
       "      <th></th>\n",
       "      <th>Obama</th>\n",
       "      <th>Barrio</th>\n",
       "    </tr>\n",
       "  </thead>\n",
       "  <tbody>\n",
       "    <tr>\n",
       "      <td>13th</td>\n",
       "      <td>1.0</td>\n",
       "      <td>0.0</td>\n",
       "    </tr>\n",
       "    <tr>\n",
       "      <td>1950</td>\n",
       "      <td>0.0</td>\n",
       "      <td>1.0</td>\n",
       "    </tr>\n",
       "    <tr>\n",
       "      <td>1961</td>\n",
       "      <td>1.0</td>\n",
       "      <td>0.0</td>\n",
       "    </tr>\n",
       "    <tr>\n",
       "      <td>1983</td>\n",
       "      <td>0.0</td>\n",
       "      <td>1.0</td>\n",
       "    </tr>\n",
       "    <tr>\n",
       "      <td>1986</td>\n",
       "      <td>0.0</td>\n",
       "      <td>1.0</td>\n",
       "    </tr>\n",
       "    <tr>\n",
       "      <td>...</td>\n",
       "      <td>...</td>\n",
       "      <td>...</td>\n",
       "    </tr>\n",
       "    <tr>\n",
       "      <td>women</td>\n",
       "      <td>0.0</td>\n",
       "      <td>1.0</td>\n",
       "    </tr>\n",
       "    <tr>\n",
       "      <td>won</td>\n",
       "      <td>1.0</td>\n",
       "      <td>1.0</td>\n",
       "    </tr>\n",
       "    <tr>\n",
       "      <td>wore</td>\n",
       "      <td>0.0</td>\n",
       "      <td>1.0</td>\n",
       "    </tr>\n",
       "    <tr>\n",
       "      <td>worked</td>\n",
       "      <td>1.0</td>\n",
       "      <td>1.0</td>\n",
       "    </tr>\n",
       "    <tr>\n",
       "      <td>years</td>\n",
       "      <td>1.0</td>\n",
       "      <td>3.0</td>\n",
       "    </tr>\n",
       "  </tbody>\n",
       "</table>\n",
       "<p>442 rows × 2 columns</p>\n",
       "</div>"
      ],
      "text/plain": [
       "        Obama  Barrio\n",
       "13th      1.0     0.0\n",
       "1950      0.0     1.0\n",
       "1961      1.0     0.0\n",
       "1983      0.0     1.0\n",
       "1986      0.0     1.0\n",
       "...       ...     ...\n",
       "women     0.0     1.0\n",
       "won       1.0     1.0\n",
       "wore      0.0     1.0\n",
       "worked    1.0     1.0\n",
       "years     1.0     3.0\n",
       "\n",
       "[442 rows x 2 columns]"
      ]
     },
     "execution_count": 14,
     "metadata": {},
     "output_type": "execute_result"
    }
   ],
   "source": [
    "combined_words = combined_words.fillna(0)\n",
    "combined_words"
   ]
  },
  {
   "cell_type": "markdown",
   "metadata": {},
   "source": [
    "**Note**. The **join** operation does not enforce any particular ordering on the shared column. So to obtain, say, the five common words that appear most often in Obama's article, sort the combined table by the Obama column. Don't forget `ascending=False` to display largest counts first."
   ]
  },
  {
   "cell_type": "code",
   "execution_count": 15,
   "metadata": {},
   "outputs": [
    {
     "data": {
      "text/html": [
       "<div>\n",
       "<style scoped>\n",
       "    .dataframe tbody tr th:only-of-type {\n",
       "        vertical-align: middle;\n",
       "    }\n",
       "\n",
       "    .dataframe tbody tr th {\n",
       "        vertical-align: top;\n",
       "    }\n",
       "\n",
       "    .dataframe thead th {\n",
       "        text-align: right;\n",
       "    }\n",
       "</style>\n",
       "<table border=\"1\" class=\"dataframe\">\n",
       "  <thead>\n",
       "    <tr style=\"text-align: right;\">\n",
       "      <th></th>\n",
       "      <th>Obama</th>\n",
       "      <th>Barrio</th>\n",
       "    </tr>\n",
       "  </thead>\n",
       "  <tbody>\n",
       "    <tr>\n",
       "      <td>the</td>\n",
       "      <td>40</td>\n",
       "      <td>36</td>\n",
       "    </tr>\n",
       "    <tr>\n",
       "      <td>in</td>\n",
       "      <td>30</td>\n",
       "      <td>17</td>\n",
       "    </tr>\n",
       "    <tr>\n",
       "      <td>and</td>\n",
       "      <td>21</td>\n",
       "      <td>18</td>\n",
       "    </tr>\n",
       "    <tr>\n",
       "      <td>of</td>\n",
       "      <td>18</td>\n",
       "      <td>24</td>\n",
       "    </tr>\n",
       "    <tr>\n",
       "      <td>to</td>\n",
       "      <td>14</td>\n",
       "      <td>9</td>\n",
       "    </tr>\n",
       "    <tr>\n",
       "      <td>...</td>\n",
       "      <td>...</td>\n",
       "      <td>...</td>\n",
       "    </tr>\n",
       "    <tr>\n",
       "      <td>parliamentary</td>\n",
       "      <td>0</td>\n",
       "      <td>1</td>\n",
       "    </tr>\n",
       "    <tr>\n",
       "      <td>partisan</td>\n",
       "      <td>0</td>\n",
       "      <td>1</td>\n",
       "    </tr>\n",
       "    <tr>\n",
       "      <td>controversy</td>\n",
       "      <td>0</td>\n",
       "      <td>1</td>\n",
       "    </tr>\n",
       "    <tr>\n",
       "      <td>partyduring</td>\n",
       "      <td>0</td>\n",
       "      <td>1</td>\n",
       "    </tr>\n",
       "    <tr>\n",
       "      <td>joining</td>\n",
       "      <td>0</td>\n",
       "      <td>1</td>\n",
       "    </tr>\n",
       "  </tbody>\n",
       "</table>\n",
       "<p>442 rows × 2 columns</p>\n",
       "</div>"
      ],
      "text/plain": [
       "               Obama  Barrio\n",
       "the               40      36\n",
       "in                30      17\n",
       "and               21      18\n",
       "of                18      24\n",
       "to                14       9\n",
       "...              ...     ...\n",
       "parliamentary      0       1\n",
       "partisan           0       1\n",
       "controversy        0       1\n",
       "partyduring        0       1\n",
       "joining            0       1\n",
       "\n",
       "[442 rows x 2 columns]"
      ]
     },
     "execution_count": 15,
     "metadata": {},
     "output_type": "execute_result"
    }
   ],
   "source": [
    "combined_words = combined_words.sort_values('Obama', ascending=False).astype('int64')\n",
    "combined_words"
   ]
  },
  {
   "cell_type": "code",
   "execution_count": 64,
   "metadata": {},
   "outputs": [
    {
     "data": {
      "text/plain": [
       "Index(['the', 'in', 'and', 'of', 'to', 'his', 'obama', 'act', 'a', 'he',\n",
       "       'law'],\n",
       "      dtype='object')"
      ]
     },
     "execution_count": 64,
     "metadata": {},
     "output_type": "execute_result"
    }
   ],
   "source": [
    "combined_words.index[0:11]"
   ]
  },
  {
   "cell_type": "markdown",
   "metadata": {},
   "source": [
    "**Quiz Question**. Among the words that appear in both Barack Obama and Francisco Barrio, take the 5 that appear most frequently in Obama. How many of the articles in the Wikipedia dataset contain all of those 5 words?\n",
    "\n",
    "Hint:\n",
    "* Refer to the previous paragraph for finding the words that appear in both articles. Sort the common words by their frequencies in Obama's article and take the largest five.\n",
    "* We currently keep the text as a large string object. For each of these string, you'd have to check if the set of the 5 common words we have is a subset of the keys of the word count vector. Complete the function `has_top_words` to accomplish the task.\n",
    "  - Convert the list of top 5 words into set using the syntax\n",
    "```\n",
    "set(common_words)\n",
    "```\n",
    "    where `common_words` is a Python list. See [this link](https://docs.python.org/2/library/stdtypes.html#set) if you're curious about Python sets.\n",
    "  - We can easily convert a list to a set, in which case all duplicate values are discarded one. Since our data is already tokenized, the text can be splitted with the `.split` command\n",
    "  - Convert the list of keys into a set as well.\n",
    "  - Check if all the common words belongs to the keys as needed.\n",
    "* Now apply the `has_top_words` function on the **text** column to retrieve the True/False assertion.\n",
    "* Compute the sum of the result column to obtain the number of articles containing all the 5 top words.\n",
    "\n",
    "**Minor insight: The usual way in Python to check if a string `s1` is a substring of another string `s2` is `s1 in s2`. Could we use it here? Why (not)?**"
   ]
  },
  {
   "cell_type": "code",
   "execution_count": 17,
   "metadata": {},
   "outputs": [],
   "source": [
    "common_words = combined_words.index[0:5]\n",
    "\n",
    "def has_top_words(text):\n",
    "    # extract the keys of word_count_vector and convert it to a set\n",
    "    unique_words = list(set(text.split()))  # YOUR CODE HERE\n",
    "    i = 0\n",
    "    while(i < len(common_words)):\n",
    "        if common_words[i] in unique_words :\n",
    "            i += 1\n",
    "        else :\n",
    "            return False\n",
    "    return True \n",
    "\n",
    "data['has_top_words'] = data['text'].apply(has_top_words)\n",
    "\n",
    "# use has_top_words column to answer the quiz question"
   ]
  },
  {
   "cell_type": "code",
   "execution_count": 18,
   "metadata": {},
   "outputs": [
    {
     "data": {
      "text/plain": [
       "True     56066\n",
       "False     3005\n",
       "Name: has_top_words, dtype: int64"
      ]
     },
     "execution_count": 18,
     "metadata": {},
     "output_type": "execute_result"
    }
   ],
   "source": [
    "data['has_top_words'].value_counts()"
   ]
  },
  {
   "cell_type": "markdown",
   "metadata": {},
   "source": [
    "**Checkpoint**. Check your `has_top_words` function on two random articles:"
   ]
  },
  {
   "cell_type": "code",
   "execution_count": 19,
   "metadata": {},
   "outputs": [
    {
     "name": "stdout",
     "output_type": "stream",
     "text": [
      "Output from your function: True\n",
      "Correct output: True\n",
      "Also check the length of unique_words. It should be 167\n",
      "167\n"
     ]
    }
   ],
   "source": [
    "print('Output from your function:', has_top_words(data.iloc[32]['text']))\n",
    "print('Correct output: True')\n",
    "print('Also check the length of unique_words. It should be 167')\n",
    "print(len(set(data.iloc[32]['text'].strip().split())))"
   ]
  },
  {
   "cell_type": "code",
   "execution_count": 20,
   "metadata": {},
   "outputs": [
    {
     "name": "stdout",
     "output_type": "stream",
     "text": [
      "Output from your function: False\n",
      "Correct output: False\n",
      "Also check the length of unique_words. It should be 188\n",
      "188\n"
     ]
    }
   ],
   "source": [
    "print('Output from your function:', has_top_words(data.iloc[33]['text']))\n",
    "print('Correct output: False')\n",
    "print('Also check the length of unique_words. It should be 188')\n",
    "print(len(set(data.iloc[33]['text'].strip().split())))"
   ]
  },
  {
   "cell_type": "markdown",
   "metadata": {},
   "source": [
    "**Quiz Question**. Measure the pairwise distance between the Wikipedia pages of Barack Obama, George W. Bush, and Joe Biden. Which of the three pairs has the smallest distance?\n",
    "\n",
    "Hints: \n",
    "* To compute the Euclidean distance between two vector, use `sklearn.metrics.pairwise.euclidean_distances`. Refer to [this link](https://scikit-learn.org/stable/modules/generated/sklearn.metrics.pairwise.euclidean_distances.html) for usage.\n",
    "* When finding a row using specific column value, take the index 0 to access the first match. (Round your answer to three decimal places.)"
   ]
  },
  {
   "cell_type": "code",
   "execution_count": 21,
   "metadata": {},
   "outputs": [],
   "source": [
    "from sklearn.metrics.pairwise import euclidean_distances as ed\n",
    "obama_query = pd.Index(data['name']).get_loc(\"Barack Obama\")\n",
    "word_count_obama = wiki_word_count[obama_query]\n",
    "bush_query = pd.Index(data['name']).get_loc(\"George W. Bush\")\n",
    "word_count_bush = wiki_word_count[bush_query]\n",
    "biden_query = pd.Index(data['name']).get_loc(\"Joe Biden\")\n",
    "word_count_biden = wiki_word_count[biden_query]"
   ]
  },
  {
   "cell_type": "code",
   "execution_count": 22,
   "metadata": {},
   "outputs": [
    {
     "name": "stdout",
     "output_type": "stream",
     "text": [
      "34.307\n",
      "33.015\n",
      "32.696\n"
     ]
    }
   ],
   "source": [
    "obama_bush_dis = ed(word_count_obama, word_count_bush)\n",
    "print(\"{:.3f}\".format(obama_bush_dis[0][0]))\n",
    "obama_biden_dis = ed(word_count_obama, word_count_biden)\n",
    "print(\"{:.3f}\".format(obama_biden_dis[0][0]))\n",
    "bush_biden_dis = ed(word_count_biden, word_count_bush)\n",
    "print(\"{:.3f}\".format(bush_biden_dis[0][0]))"
   ]
  },
  {
   "cell_type": "markdown",
   "metadata": {},
   "source": [
    "**Quiz Question**. Collect all words that appear both in Barack Obama and George W. Bush pages.  Out of those words, find the 10 words that show up most often in Obama's page."
   ]
  },
  {
   "cell_type": "code",
   "execution_count": 23,
   "metadata": {},
   "outputs": [],
   "source": [
    "bush_words = create_series_from_name(\"George W. Bush\")\n",
    "combined_words_2 = obama_words.to_frame(name='Obama').join(bush_words.to_frame(name=\"Bush\"))"
   ]
  },
  {
   "cell_type": "code",
   "execution_count": 24,
   "metadata": {},
   "outputs": [
    {
     "data": {
      "text/html": [
       "<div>\n",
       "<style scoped>\n",
       "    .dataframe tbody tr th:only-of-type {\n",
       "        vertical-align: middle;\n",
       "    }\n",
       "\n",
       "    .dataframe tbody tr th {\n",
       "        vertical-align: top;\n",
       "    }\n",
       "\n",
       "    .dataframe thead th {\n",
       "        text-align: right;\n",
       "    }\n",
       "</style>\n",
       "<table border=\"1\" class=\"dataframe\">\n",
       "  <thead>\n",
       "    <tr style=\"text-align: right;\">\n",
       "      <th></th>\n",
       "      <th>Obama</th>\n",
       "      <th>Bush</th>\n",
       "    </tr>\n",
       "  </thead>\n",
       "  <tbody>\n",
       "    <tr>\n",
       "      <td>the</td>\n",
       "      <td>40</td>\n",
       "      <td>39</td>\n",
       "    </tr>\n",
       "    <tr>\n",
       "      <td>in</td>\n",
       "      <td>30</td>\n",
       "      <td>22</td>\n",
       "    </tr>\n",
       "    <tr>\n",
       "      <td>and</td>\n",
       "      <td>21</td>\n",
       "      <td>14</td>\n",
       "    </tr>\n",
       "    <tr>\n",
       "      <td>of</td>\n",
       "      <td>18</td>\n",
       "      <td>14</td>\n",
       "    </tr>\n",
       "    <tr>\n",
       "      <td>to</td>\n",
       "      <td>14</td>\n",
       "      <td>11</td>\n",
       "    </tr>\n",
       "    <tr>\n",
       "      <td>...</td>\n",
       "      <td>...</td>\n",
       "      <td>...</td>\n",
       "    </tr>\n",
       "    <tr>\n",
       "      <td>laureateduring</td>\n",
       "      <td>1</td>\n",
       "      <td>0</td>\n",
       "    </tr>\n",
       "    <tr>\n",
       "      <td>two</td>\n",
       "      <td>1</td>\n",
       "      <td>0</td>\n",
       "    </tr>\n",
       "    <tr>\n",
       "      <td>years</td>\n",
       "      <td>1</td>\n",
       "      <td>0</td>\n",
       "    </tr>\n",
       "    <tr>\n",
       "      <td>into</td>\n",
       "      <td>1</td>\n",
       "      <td>2</td>\n",
       "    </tr>\n",
       "    <tr>\n",
       "      <td>cuba</td>\n",
       "      <td>1</td>\n",
       "      <td>0</td>\n",
       "    </tr>\n",
       "  </tbody>\n",
       "</table>\n",
       "<p>273 rows × 2 columns</p>\n",
       "</div>"
      ],
      "text/plain": [
       "                Obama  Bush\n",
       "the                40    39\n",
       "in                 30    22\n",
       "and                21    14\n",
       "of                 18    14\n",
       "to                 14    11\n",
       "...               ...   ...\n",
       "laureateduring      1     0\n",
       "two                 1     0\n",
       "years               1     0\n",
       "into                1     2\n",
       "cuba                1     0\n",
       "\n",
       "[273 rows x 2 columns]"
      ]
     },
     "execution_count": 24,
     "metadata": {},
     "output_type": "execute_result"
    }
   ],
   "source": [
    "combined_words_2 = combined_words_2.fillna(0)\n",
    "combined_words_2.astype(\"int64\").sort_values(\"Obama\",ascending=False)"
   ]
  },
  {
   "cell_type": "markdown",
   "metadata": {},
   "source": [
    "**Note.** Even though common words are swamping out important subtle differences, commonalities in rarer political words still matter on the margin. This is why politicians are being listed in the query result instead of musicians, for example. In the next subsection, we will introduce a different metric that will place greater emphasis on those rarer words."
   ]
  },
  {
   "cell_type": "markdown",
   "metadata": {},
   "source": [
    "## TF-IDF to the rescue"
   ]
  },
  {
   "cell_type": "markdown",
   "metadata": {},
   "source": [
    "Much of the perceived commonalities between Obama and Barrio were due to occurrences of extremely frequent words, such as \"the\", \"and\", and \"his\". So nearest neighbors is recommending plausible results sometimes for the wrong reasons. \n",
    "\n",
    "To retrieve articles that are more relevant, we should focus more on rare words that don't happen in every article. **TF-IDF** (term frequency–inverse document frequency) is a feature representation that penalizes words that are too common.  Let's use sklearn's implementation of TF-IDF named `TfidfVectorizer`, which is a combination of the previous `CountVectorizer` and a `TfidfTransformer` that will calculate the concerning TF-IDFs. We repeat the search for the 10 nearest neighbors of Barack Obama:"
   ]
  },
  {
   "cell_type": "code",
   "execution_count": 25,
   "metadata": {},
   "outputs": [],
   "source": [
    "#wiki['tf_idf'] = turicreate.text_analytics.tf_idf(wiki['word_count'])\n",
    "from sklearn.feature_extraction.text import TfidfVectorizer\n",
    "tfidf_vectorizer = TfidfVectorizer(sublinear_tf=True) # max_features=200000\n",
    "tfidf_word_count = tfidf_vectorizer.fit_transform(data[\"text\"])"
   ]
  },
  {
   "cell_type": "code",
   "execution_count": 26,
   "metadata": {},
   "outputs": [
    {
     "data": {
      "text/plain": [
       "NearestNeighbors(algorithm='auto', leaf_size=30, metric='euclidean',\n",
       "                 metric_params=None, n_jobs=None, n_neighbors=5, p=2,\n",
       "                 radius=1.0)"
      ]
     },
     "execution_count": 26,
     "metadata": {},
     "output_type": "execute_result"
    }
   ],
   "source": [
    "tfidf_model = NearestNeighbors(metric='euclidean')\n",
    "tfidf_model.fit(tfidf_word_count)\n",
    "#model_tf_idf = turicreate.nearest_neighbors.create(wiki, label='name', features=['tf_idf'],\n",
    "#                                                   method='brute_force', distance='euclidean')"
   ]
  },
  {
   "cell_type": "code",
   "execution_count": 27,
   "metadata": {},
   "outputs": [
    {
     "name": "stdout",
     "output_type": "stream",
     "text": [
      "Nearest neighbors found:\n",
      " 24478                 Joe Biden\n",
      "57108    Hillary Rodham Clinton\n",
      "4408              Joe Lieberman\n",
      "48693               Artur Davis\n",
      "46811             Jeff Sessions\n",
      "28447            George W. Bush\n",
      "36452              Bill Clinton\n",
      "47303                John Kerry\n",
      "38376            Samantha Power\n",
      "9073               Thomas Perez\n",
      "Name: name, dtype: object\n"
     ]
    }
   ],
   "source": [
    "#model_tf_idf.query(wiki[wiki['name'] == 'Barack Obama'], label='name', k=10)\n",
    "def tfidf_query_knn(name, return_distance=False, n_neighbors=10):\n",
    "    query_index = pd.Index(data['name']).get_loc(name)\n",
    "    query = tfidf_word_count[query_index]\n",
    "    distances, indices = tfidf_model.kneighbors(query, n_neighbors=n_neighbors+1)\n",
    "    return distances, data.iloc[indices[0][1:]]\n",
    "print(\"Nearest neighbors found:\\n\", tfidf_query_knn('Barack Obama')[-1][\"name\"])"
   ]
  },
  {
   "cell_type": "markdown",
   "metadata": {},
   "source": [
    "Let's determine whether this list makes sense.\n",
    "* They are all American politicians who are contemporaries of Barack Obama.\n",
    "* Samantha Power and ... worked for Obama.\n",
    "\n",
    "Clearly, the results are more plausible with the use of TF-IDF. Let's take a look at the word vector for Obama and Stern's pages. Notice that TF-IDF representation assigns a weight to each word. This weight captures relative importance of that word in the document. Let us sort the words in Obama's article by their TF-IDF weights; we do the same for Stern's article as well."
   ]
  },
  {
   "cell_type": "code",
   "execution_count": 28,
   "metadata": {},
   "outputs": [],
   "source": [
    "tfidf_lookup_vocab = {i:w for w, i in tfidf_vectorizer.vocabulary_.items()}\n",
    "def retrieve_tfidf_vector(name):\n",
    "    return tfidf_vectorizer.transform(data[data['name'] == name][\"text\"]).toarray().ravel()\n",
    "def top_words_tf_idf(name, most_freq_count=10):\n",
    "    tfidf_vector = retrieve_tfidf_vector(name)\n",
    "    best_words_ids = np.argsort(tfidf_vector, axis=-1)[::-1][:most_freq_count]\n",
    "    #print(np.shape(tfidf_vector), best_words_ids)\n",
    "    best_words = [tfidf_lookup_vocab[idx] for idx in best_words_ids]\n",
    "    return best_words"
   ]
  },
  {
   "cell_type": "code",
   "execution_count": 29,
   "metadata": {},
   "outputs": [
    {
     "data": {
      "text/plain": [
       "['obama',\n",
       " 'act',\n",
       " 'iraq',\n",
       " 'ordered',\n",
       " 'laureateduring',\n",
       " '2012obama',\n",
       " 'husen',\n",
       " 'control',\n",
       " 'involvement',\n",
       " 'response']"
      ]
     },
     "execution_count": 29,
     "metadata": {},
     "output_type": "execute_result"
    }
   ],
   "source": [
    "obama_tf_idf = top_words_tf_idf('Barack Obama')\n",
    "obama_tf_idf"
   ]
  },
  {
   "cell_type": "code",
   "execution_count": 30,
   "metadata": {},
   "outputs": [
    {
     "data": {
      "text/plain": [
       "['obama',\n",
       " 'multilateral',\n",
       " 'genocide',\n",
       " 'councilresponsible',\n",
       " 'nationspower',\n",
       " 'rightspositions',\n",
       " 'monsterpower',\n",
       " 'forbespower',\n",
       " 'rights',\n",
       " 'militarily']"
      ]
     },
     "execution_count": 30,
     "metadata": {},
     "output_type": "execute_result"
    }
   ],
   "source": [
    "power_tf_idf = top_words_tf_idf('Samantha Power')\n",
    "power_tf_idf"
   ]
  },
  {
   "cell_type": "markdown",
   "metadata": {},
   "source": [
    "Using the **join** operation we learned earlier, try your hands at computing the common words shared by Obama's and Power's articles. Sort the common words by their TF-IDF weights in Obama's document."
   ]
  },
  {
   "cell_type": "code",
   "execution_count": 31,
   "metadata": {},
   "outputs": [
    {
     "data": {
      "text/html": [
       "<div>\n",
       "<style scoped>\n",
       "    .dataframe tbody tr th:only-of-type {\n",
       "        vertical-align: middle;\n",
       "    }\n",
       "\n",
       "    .dataframe tbody tr th {\n",
       "        vertical-align: top;\n",
       "    }\n",
       "\n",
       "    .dataframe thead th {\n",
       "        text-align: right;\n",
       "    }\n",
       "</style>\n",
       "<table border=\"1\" class=\"dataframe\">\n",
       "  <thead>\n",
       "    <tr style=\"text-align: right;\">\n",
       "      <th></th>\n",
       "      <th>Obama</th>\n",
       "      <th>Power</th>\n",
       "      <th>obama_tfidf</th>\n",
       "    </tr>\n",
       "  </thead>\n",
       "  <tbody>\n",
       "    <tr>\n",
       "      <td>obama</td>\n",
       "      <td>9</td>\n",
       "      <td>5</td>\n",
       "      <td>0.184492</td>\n",
       "    </tr>\n",
       "    <tr>\n",
       "      <td>response</td>\n",
       "      <td>3</td>\n",
       "      <td>1</td>\n",
       "      <td>0.109667</td>\n",
       "    </tr>\n",
       "    <tr>\n",
       "      <td>protection</td>\n",
       "      <td>2</td>\n",
       "      <td>2</td>\n",
       "      <td>0.089953</td>\n",
       "    </tr>\n",
       "    <tr>\n",
       "      <td>rodham</td>\n",
       "      <td>1</td>\n",
       "      <td>1</td>\n",
       "      <td>0.085974</td>\n",
       "    </tr>\n",
       "    <tr>\n",
       "      <td>campaign</td>\n",
       "      <td>3</td>\n",
       "      <td>2</td>\n",
       "      <td>0.083931</td>\n",
       "    </tr>\n",
       "    <tr>\n",
       "      <td>us</td>\n",
       "      <td>6</td>\n",
       "      <td>1</td>\n",
       "      <td>0.081316</td>\n",
       "    </tr>\n",
       "    <tr>\n",
       "      <td>presidential</td>\n",
       "      <td>2</td>\n",
       "      <td>1</td>\n",
       "      <td>0.078934</td>\n",
       "    </tr>\n",
       "    <tr>\n",
       "      <td>libya</td>\n",
       "      <td>1</td>\n",
       "      <td>1</td>\n",
       "      <td>0.072749</td>\n",
       "    </tr>\n",
       "    <tr>\n",
       "      <td>harvard</td>\n",
       "      <td>2</td>\n",
       "      <td>1</td>\n",
       "      <td>0.072605</td>\n",
       "    </tr>\n",
       "    <tr>\n",
       "      <td>foreign</td>\n",
       "      <td>2</td>\n",
       "      <td>1</td>\n",
       "      <td>0.070484</td>\n",
       "    </tr>\n",
       "  </tbody>\n",
       "</table>\n",
       "</div>"
      ],
      "text/plain": [
       "              Obama  Power  obama_tfidf\n",
       "obama             9      5     0.184492\n",
       "response          3      1     0.109667\n",
       "protection        2      2     0.089953\n",
       "rodham            1      1     0.085974\n",
       "campaign          3      2     0.083931\n",
       "us                6      1     0.081316\n",
       "presidential      2      1     0.078934\n",
       "libya             1      1     0.072749\n",
       "harvard           2      1     0.072605\n",
       "foreign           2      1     0.070484"
      ]
     },
     "execution_count": 31,
     "metadata": {},
     "output_type": "execute_result"
    }
   ],
   "source": [
    "obama_words = create_series_from_name(\"Barack Obama\")\n",
    "power_words = create_series_from_name(\"Samantha Power\")\n",
    "both = obama_words.to_frame(name=\"Obama\").join(power_words.to_frame(name=\"Power\"), how=\"inner\")\n",
    "obama_text = data[data['name'] == \"Barack Obama\"][\"text\"].iloc[0]\n",
    "obama_tfidf_vector = tfidf_vectorizer.transform([obama_text]) # se co thu tu cac tu trong dictionary\n",
    "obama_tfidf_values = {k: obama_tfidf_vector[0, i] for k, i in tfidf_vectorizer.vocabulary_.items()}\n",
    "both[\"obama_tfidf\"] = both.index.to_series().map(obama_tfidf_values)\n",
    "both.sort_values(by='obama_tfidf', ascending=False).head(10)"
   ]
  },
  {
   "cell_type": "markdown",
   "metadata": {},
   "source": [
    "The first 10 words should contain the terms Obama, presidential, US, campaign."
   ]
  },
  {
   "cell_type": "markdown",
   "metadata": {},
   "source": [
    "**Quiz Question**. Among the words that appear in both Barack Obama and Samantha Power, take the 5 that have largest weights in Obama. How many of the articles in the Wikipedia dataset contain all of those 5 words?"
   ]
  },
  {
   "cell_type": "code",
   "execution_count": 33,
   "metadata": {},
   "outputs": [],
   "source": [
    "common_words = both.index[0:5]\n",
    "\n",
    "def has_top_words(text):\n",
    "    # extract the keys of word_count_vector and convert it to a set\n",
    "    unique_words = list(set(text.split()))  # YOUR CODE HERE\n",
    "    i = 0\n",
    "    while(i < len(common_words)):\n",
    "        if common_words[i] in unique_words :\n",
    "            i += 1\n",
    "        else :\n",
    "            return False\n",
    "    return True \n",
    "\n",
    "data['has_top_words'] = data['text'].apply(has_top_words)\n",
    "\n",
    "# use has_top_words column to answer the quiz question"
   ]
  },
  {
   "cell_type": "code",
   "execution_count": 36,
   "metadata": {},
   "outputs": [
    {
     "data": {
      "text/plain": [
       "False    58861\n",
       "True       210\n",
       "Name: has_top_words, dtype: int64"
      ]
     },
     "execution_count": 36,
     "metadata": {},
     "output_type": "execute_result"
    }
   ],
   "source": [
    "data['has_top_words'].value_counts()"
   ]
  },
  {
   "cell_type": "markdown",
   "metadata": {},
   "source": [
    "Notice the huge difference in this calculation using TF-IDF scores instead  of raw word counts. We've eliminated noise arising from extremely common words."
   ]
  },
  {
   "cell_type": "markdown",
   "metadata": {},
   "source": [
    "## Choosing metrics"
   ]
  },
  {
   "cell_type": "markdown",
   "metadata": {},
   "source": [
    "**Quiz Question**. Compute the Euclidean distance between TF-IDF features of Obama and Biden. (Round your answer to three decimal places.)"
   ]
  },
  {
   "cell_type": "code",
   "execution_count": 57,
   "metadata": {},
   "outputs": [
    {
     "data": {
      "text/plain": [
       "array([[1.18501445]])"
      ]
     },
     "execution_count": 57,
     "metadata": {},
     "output_type": "execute_result"
    }
   ],
   "source": [
    "ed([retrieve_tfidf_vector(\"Barack Obama\")], [retrieve_tfidf_vector(\"Joe Biden\")])"
   ]
  },
  {
   "cell_type": "markdown",
   "metadata": {},
   "source": [
    "The distance is larger than the distances we found for the 10 nearest neighbors, which we repeat here for readability:"
   ]
  },
  {
   "cell_type": "code",
   "execution_count": 58,
   "metadata": {},
   "outputs": [
    {
     "name": "stderr",
     "output_type": "stream",
     "text": [
      "C:\\ProgramData\\Anaconda3\\lib\\site-packages\\ipykernel_launcher.py:4: SettingWithCopyWarning: \n",
      "A value is trying to be set on a copy of a slice from a DataFrame.\n",
      "Try using .loc[row_indexer,col_indexer] = value instead\n",
      "\n",
      "See the caveats in the documentation: http://pandas.pydata.org/pandas-docs/stable/user_guide/indexing.html#returning-a-view-versus-a-copy\n",
      "  after removing the cwd from sys.path.\n"
     ]
    },
    {
     "data": {
      "text/html": [
       "<div>\n",
       "<style scoped>\n",
       "    .dataframe tbody tr th:only-of-type {\n",
       "        vertical-align: middle;\n",
       "    }\n",
       "\n",
       "    .dataframe tbody tr th {\n",
       "        vertical-align: top;\n",
       "    }\n",
       "\n",
       "    .dataframe thead th {\n",
       "        text-align: right;\n",
       "    }\n",
       "</style>\n",
       "<table border=\"1\" class=\"dataframe\">\n",
       "  <thead>\n",
       "    <tr style=\"text-align: right;\">\n",
       "      <th></th>\n",
       "      <th>URI</th>\n",
       "      <th>name</th>\n",
       "      <th>text</th>\n",
       "      <th>has_top_words</th>\n",
       "      <th>distances</th>\n",
       "    </tr>\n",
       "  </thead>\n",
       "  <tbody>\n",
       "    <tr>\n",
       "      <td>24478</td>\n",
       "      <td>&lt;http://dbpedia.org/resource/Joe_Biden&gt;</td>\n",
       "      <td>Joe Biden</td>\n",
       "      <td>joseph robinette joe biden jr dosf rbnt badn b...</td>\n",
       "      <td>True</td>\n",
       "      <td>1.185014</td>\n",
       "    </tr>\n",
       "    <tr>\n",
       "      <td>57108</td>\n",
       "      <td>&lt;http://dbpedia.org/resource/Hillary_Rodham_Cl...</td>\n",
       "      <td>Hillary Rodham Clinton</td>\n",
       "      <td>hillary diane rodham clinton hlri dan rdm klnt...</td>\n",
       "      <td>True</td>\n",
       "      <td>1.222492</td>\n",
       "    </tr>\n",
       "    <tr>\n",
       "      <td>4408</td>\n",
       "      <td>&lt;http://dbpedia.org/resource/Joe_Lieberman&gt;</td>\n",
       "      <td>Joe Lieberman</td>\n",
       "      <td>joseph isadore joe lieberman born february 24 ...</td>\n",
       "      <td>False</td>\n",
       "      <td>1.236462</td>\n",
       "    </tr>\n",
       "    <tr>\n",
       "      <td>48693</td>\n",
       "      <td>&lt;http://dbpedia.org/resource/Artur_Davis&gt;</td>\n",
       "      <td>Artur Davis</td>\n",
       "      <td>artur genestre davis born october 9 1967 is an...</td>\n",
       "      <td>True</td>\n",
       "      <td>1.236839</td>\n",
       "    </tr>\n",
       "    <tr>\n",
       "      <td>46811</td>\n",
       "      <td>&lt;http://dbpedia.org/resource/Jeff_Sessions&gt;</td>\n",
       "      <td>Jeff Sessions</td>\n",
       "      <td>jefferson beauregard jeff sessions iii born de...</td>\n",
       "      <td>False</td>\n",
       "      <td>1.240793</td>\n",
       "    </tr>\n",
       "    <tr>\n",
       "      <td>28447</td>\n",
       "      <td>&lt;http://dbpedia.org/resource/George_W._Bush&gt;</td>\n",
       "      <td>George W. Bush</td>\n",
       "      <td>george walker bush born july 6 1946 is an amer...</td>\n",
       "      <td>False</td>\n",
       "      <td>1.250768</td>\n",
       "    </tr>\n",
       "    <tr>\n",
       "      <td>36452</td>\n",
       "      <td>&lt;http://dbpedia.org/resource/Bill_Clinton&gt;</td>\n",
       "      <td>Bill Clinton</td>\n",
       "      <td>william jefferson bill clinton born william je...</td>\n",
       "      <td>False</td>\n",
       "      <td>1.253769</td>\n",
       "    </tr>\n",
       "    <tr>\n",
       "      <td>47303</td>\n",
       "      <td>&lt;http://dbpedia.org/resource/John_Kerry&gt;</td>\n",
       "      <td>John Kerry</td>\n",
       "      <td>john forbes kerry born december 11 1943 is an ...</td>\n",
       "      <td>True</td>\n",
       "      <td>1.256045</td>\n",
       "    </tr>\n",
       "    <tr>\n",
       "      <td>38376</td>\n",
       "      <td>&lt;http://dbpedia.org/resource/Samantha_Power&gt;</td>\n",
       "      <td>Samantha Power</td>\n",
       "      <td>samantha power born september 21 1970 is an ir...</td>\n",
       "      <td>True</td>\n",
       "      <td>1.263746</td>\n",
       "    </tr>\n",
       "    <tr>\n",
       "      <td>9073</td>\n",
       "      <td>&lt;http://dbpedia.org/resource/Thomas_Perez&gt;</td>\n",
       "      <td>Thomas Perez</td>\n",
       "      <td>thomas edward perez born october 7 1961 is an ...</td>\n",
       "      <td>True</td>\n",
       "      <td>1.265955</td>\n",
       "    </tr>\n",
       "  </tbody>\n",
       "</table>\n",
       "</div>"
      ],
      "text/plain": [
       "                                                     URI  \\\n",
       "24478            <http://dbpedia.org/resource/Joe_Biden>   \n",
       "57108  <http://dbpedia.org/resource/Hillary_Rodham_Cl...   \n",
       "4408         <http://dbpedia.org/resource/Joe_Lieberman>   \n",
       "48693          <http://dbpedia.org/resource/Artur_Davis>   \n",
       "46811        <http://dbpedia.org/resource/Jeff_Sessions>   \n",
       "28447       <http://dbpedia.org/resource/George_W._Bush>   \n",
       "36452         <http://dbpedia.org/resource/Bill_Clinton>   \n",
       "47303           <http://dbpedia.org/resource/John_Kerry>   \n",
       "38376       <http://dbpedia.org/resource/Samantha_Power>   \n",
       "9073          <http://dbpedia.org/resource/Thomas_Perez>   \n",
       "\n",
       "                         name  \\\n",
       "24478               Joe Biden   \n",
       "57108  Hillary Rodham Clinton   \n",
       "4408            Joe Lieberman   \n",
       "48693             Artur Davis   \n",
       "46811           Jeff Sessions   \n",
       "28447          George W. Bush   \n",
       "36452            Bill Clinton   \n",
       "47303              John Kerry   \n",
       "38376          Samantha Power   \n",
       "9073             Thomas Perez   \n",
       "\n",
       "                                                    text  has_top_words  \\\n",
       "24478  joseph robinette joe biden jr dosf rbnt badn b...           True   \n",
       "57108  hillary diane rodham clinton hlri dan rdm klnt...           True   \n",
       "4408   joseph isadore joe lieberman born february 24 ...          False   \n",
       "48693  artur genestre davis born october 9 1967 is an...           True   \n",
       "46811  jefferson beauregard jeff sessions iii born de...          False   \n",
       "28447  george walker bush born july 6 1946 is an amer...          False   \n",
       "36452  william jefferson bill clinton born william je...          False   \n",
       "47303  john forbes kerry born december 11 1943 is an ...           True   \n",
       "38376  samantha power born september 21 1970 is an ir...           True   \n",
       "9073   thomas edward perez born october 7 1961 is an ...           True   \n",
       "\n",
       "       distances  \n",
       "24478   1.185014  \n",
       "57108   1.222492  \n",
       "4408    1.236462  \n",
       "48693   1.236839  \n",
       "46811   1.240793  \n",
       "28447   1.250768  \n",
       "36452   1.253769  \n",
       "47303   1.256045  \n",
       "38376   1.263746  \n",
       "9073    1.265955  "
      ]
     },
     "execution_count": 58,
     "metadata": {},
     "output_type": "execute_result"
    }
   ],
   "source": [
    "#model_tf_idf.query(wiki[wiki['name'] == 'Barack Obama'], label='name', k=10)\n",
    "distances, rows = tfidf_query_knn('Barack Obama')\n",
    "obama_tfidf_vector = retrieve_tfidf_vector(\"Barack Obama\")\n",
    "rows[\"distances\"] = rows[\"name\"].map(lambda name: ed([obama_tfidf_vector], [retrieve_tfidf_vector(name)])[0][0])\n",
    "rows"
   ]
  },
  {
   "cell_type": "markdown",
   "metadata": {},
   "source": [
    "But one may wonder, is Biden's article that different from Obama's, more so than, say, Power's? It turns out that, when we compute nearest neighbors using the Euclidean distances, we unwittingly favor short articles over long ones. Let us compute the length of each Wikipedia document, and examine the document lengths for the 100 nearest neighbors to Obama's page."
   ]
  },
  {
   "cell_type": "code",
   "execution_count": 59,
   "metadata": {},
   "outputs": [],
   "source": [
    "def compute_length(text):\n",
    "    return len(text.split(' '))\n",
    "\n",
    "data['length'] = data['text'].apply(compute_length) "
   ]
  },
  {
   "cell_type": "code",
   "execution_count": 60,
   "metadata": {},
   "outputs": [
    {
     "data": {
      "text/html": [
       "<div>\n",
       "<style scoped>\n",
       "    .dataframe tbody tr th:only-of-type {\n",
       "        vertical-align: middle;\n",
       "    }\n",
       "\n",
       "    .dataframe tbody tr th {\n",
       "        vertical-align: top;\n",
       "    }\n",
       "\n",
       "    .dataframe thead th {\n",
       "        text-align: right;\n",
       "    }\n",
       "</style>\n",
       "<table border=\"1\" class=\"dataframe\">\n",
       "  <thead>\n",
       "    <tr style=\"text-align: right;\">\n",
       "      <th></th>\n",
       "      <th>URI</th>\n",
       "      <th>name</th>\n",
       "      <th>text</th>\n",
       "      <th>has_top_words</th>\n",
       "      <th>length</th>\n",
       "    </tr>\n",
       "  </thead>\n",
       "  <tbody>\n",
       "    <tr>\n",
       "      <td>1293</td>\n",
       "      <td>&lt;http://dbpedia.org/resource/Jay_Nixon&gt;</td>\n",
       "      <td>Jay Nixon</td>\n",
       "      <td>jeremiah wilson jay nixon born february 13 195...</td>\n",
       "      <td>False</td>\n",
       "      <td>201</td>\n",
       "    </tr>\n",
       "    <tr>\n",
       "      <td>45068</td>\n",
       "      <td>&lt;http://dbpedia.org/resource/Douglas_Schoen&gt;</td>\n",
       "      <td>Douglas Schoen</td>\n",
       "      <td>douglas schoen is an american political analys...</td>\n",
       "      <td>False</td>\n",
       "      <td>202</td>\n",
       "    </tr>\n",
       "    <tr>\n",
       "      <td>7914</td>\n",
       "      <td>&lt;http://dbpedia.org/resource/Phil_Schiliro&gt;</td>\n",
       "      <td>Phil Schiliro</td>\n",
       "      <td>phil schiliro is an american political consult...</td>\n",
       "      <td>False</td>\n",
       "      <td>208</td>\n",
       "    </tr>\n",
       "    <tr>\n",
       "      <td>24837</td>\n",
       "      <td>&lt;http://dbpedia.org/resource/Leon_Panetta&gt;</td>\n",
       "      <td>Leon Panetta</td>\n",
       "      <td>leon edward panetta born june 28 1938 is an am...</td>\n",
       "      <td>True</td>\n",
       "      <td>209</td>\n",
       "    </tr>\n",
       "    <tr>\n",
       "      <td>1277</td>\n",
       "      <td>&lt;http://dbpedia.org/resource/Kathryn_Biber&gt;</td>\n",
       "      <td>Kathryn Biber</td>\n",
       "      <td>katie biber born 1978 is a well known american...</td>\n",
       "      <td>False</td>\n",
       "      <td>211</td>\n",
       "    </tr>\n",
       "  </tbody>\n",
       "</table>\n",
       "</div>"
      ],
      "text/plain": [
       "                                                URI            name  \\\n",
       "1293        <http://dbpedia.org/resource/Jay_Nixon>       Jay Nixon   \n",
       "45068  <http://dbpedia.org/resource/Douglas_Schoen>  Douglas Schoen   \n",
       "7914    <http://dbpedia.org/resource/Phil_Schiliro>   Phil Schiliro   \n",
       "24837    <http://dbpedia.org/resource/Leon_Panetta>    Leon Panetta   \n",
       "1277    <http://dbpedia.org/resource/Kathryn_Biber>   Kathryn Biber   \n",
       "\n",
       "                                                    text  has_top_words  \\\n",
       "1293   jeremiah wilson jay nixon born february 13 195...          False   \n",
       "45068  douglas schoen is an american political analys...          False   \n",
       "7914   phil schiliro is an american political consult...          False   \n",
       "24837  leon edward panetta born june 28 1938 is an am...           True   \n",
       "1277   katie biber born 1978 is a well known american...          False   \n",
       "\n",
       "       length  \n",
       "1293      201  \n",
       "45068     202  \n",
       "7914      208  \n",
       "24837     209  \n",
       "1277      211  "
      ]
     },
     "execution_count": 60,
     "metadata": {},
     "output_type": "execute_result"
    }
   ],
   "source": [
    "#nearest_neighbors_euclidean = model_tf_idf.query(wiki[wiki['name'] == 'Barack Obama'], label='name', k=100)\n",
    "distances, rows = tfidf_query_knn('Barack Obama', n_neighbors=100)\n",
    "rows.sort_values('length').head()\n",
    "#nearest_neighbors_euclidean = nearest_neighbors_euclidean.join(wiki[['name', 'length']], on={'reference_label':'name'})"
   ]
  },
  {
   "cell_type": "markdown",
   "metadata": {},
   "source": [
    "To see how these document lengths compare to the lengths of other documents in the corpus, let's make a histogram of the document lengths of Obama's 100 nearest neighbors and compare to a histogram of document lengths for all documents."
   ]
  },
  {
   "cell_type": "code",
   "execution_count": 61,
   "metadata": {},
   "outputs": [
    {
     "data": {
      "image/png": "[encoded data removed]",
      "text/plain": [
       "<Figure size 756x324 with 1 Axes>"
      ]
     },
     "metadata": {
      "needs_background": "light"
     },
     "output_type": "display_data"
    }
   ],
   "source": [
    "plt.figure(figsize=(10.5,4.5))\n",
    "plt.hist(data['length'], 50, color='k', edgecolor='None', histtype='stepfilled', density=True,\n",
    "         label='Entire Wikipedia', zorder=3, alpha=0.8)\n",
    "plt.hist(rows['length'], 50, color='r', edgecolor='None', histtype='stepfilled', density=True,\n",
    "         label='100 NNs of Obama (Euclidean)', zorder=10, alpha=0.8)\n",
    "plt.axvline(x=data[data['name'] == 'Barack Obama']['length'].iloc[0], color='k', linestyle='--', linewidth=4,\n",
    "           label='Length of Barack Obama', zorder=2)\n",
    "plt.axvline(x=data[data['name'] == 'Joe Biden']['length'].iloc[0], color='g', linestyle='--', linewidth=4,\n",
    "           label='Length of Joe Biden', zorder=1)\n",
    "plt.axis([0, 1000, 0, 0.04])\n",
    "\n",
    "plt.legend(loc='best', prop={'size':15})\n",
    "plt.title('Distribution of document length')\n",
    "plt.xlabel('# of words')\n",
    "plt.ylabel('Percentage')\n",
    "plt.rcParams.update({'font.size':16})\n",
    "plt.tight_layout()"
   ]
  },
  {
   "cell_type": "markdown",
   "metadata": {},
   "source": [
    "Relative to the rest of Wikipedia, nearest neighbors of Obama are overwhemingly short, most of them being shorter than 300 words. The bias towards short articles is not appropriate in this application as there is really no reason to  favor short articles over long articles (they are all Wikipedia articles, after all). Many of the Wikipedia articles are 300 words or more, and both Obama and Biden are over 300 words long.\n",
    "\n",
    "**Note**: For the interest of computation time, the dataset given here contains _excerpts_ of the articles rather than full text. For instance, the actual Wikipedia article about Obama is around 25000 words. Do not be surprised by the low numbers shown in the histogram."
   ]
  },
  {
   "cell_type": "markdown",
   "metadata": {},
   "source": [
    "**Note:** Both word-count features and TF-IDF are proportional to word frequencies. While TF-IDF penalizes very common words, longer articles tend to have longer TF-IDF vectors simply because they have more words in them."
   ]
  },
  {
   "cell_type": "markdown",
   "metadata": {
    "collapsed": true
   },
   "source": [
    "To remove this bias, we turn to **cosine distances**:\n",
    "$$\n",
    "d(\\mathbf{x},\\mathbf{y}) = 1 - \\frac{\\mathbf{x}^T\\mathbf{y}}{\\|\\mathbf{x}\\| \\|\\mathbf{y}\\|}\n",
    "$$\n",
    "Cosine distances let us compare word distributions of two articles of varying lengths.\n",
    "\n",
    "Let us train a new nearest neighbor model, this time with cosine distances.  We then repeat the search for Obama's 100 nearest neighbors."
   ]
  },
  {
   "cell_type": "code",
   "execution_count": 62,
   "metadata": {},
   "outputs": [
    {
     "data": {
      "text/plain": [
       "NearestNeighbors(algorithm='auto', leaf_size=30, metric='cosine',\n",
       "                 metric_params=None, n_jobs=None, n_neighbors=5, p=2,\n",
       "                 radius=1.0)"
      ]
     },
     "execution_count": 62,
     "metadata": {},
     "output_type": "execute_result"
    }
   ],
   "source": [
    "#model2_tf_idf = turicreate.nearest_neighbors.create(wiki, label='name', features=['tf_idf'],\n",
    "#                                                    method='brute_force', distance='cosine')\n",
    "tfidf_model2 = NearestNeighbors(metric='cosine')\n",
    "tfidf_model2.fit(tfidf_word_count)"
   ]
  },
  {
   "cell_type": "code",
   "execution_count": 65,
   "metadata": {},
   "outputs": [
    {
     "name": "stderr",
     "output_type": "stream",
     "text": [
      "C:\\ProgramData\\Anaconda3\\lib\\site-packages\\ipykernel_launcher.py:9: SettingWithCopyWarning: \n",
      "A value is trying to be set on a copy of a slice from a DataFrame.\n",
      "Try using .loc[row_indexer,col_indexer] = value instead\n",
      "\n",
      "See the caveats in the documentation: http://pandas.pydata.org/pandas-docs/stable/user_guide/indexing.html#returning-a-view-versus-a-copy\n",
      "  if __name__ == '__main__':\n"
     ]
    },
    {
     "data": {
      "text/html": [
       "<div>\n",
       "<style scoped>\n",
       "    .dataframe tbody tr th:only-of-type {\n",
       "        vertical-align: middle;\n",
       "    }\n",
       "\n",
       "    .dataframe tbody tr th {\n",
       "        vertical-align: top;\n",
       "    }\n",
       "\n",
       "    .dataframe thead th {\n",
       "        text-align: right;\n",
       "    }\n",
       "</style>\n",
       "<table border=\"1\" class=\"dataframe\">\n",
       "  <thead>\n",
       "    <tr style=\"text-align: right;\">\n",
       "      <th></th>\n",
       "      <th>URI</th>\n",
       "      <th>name</th>\n",
       "      <th>text</th>\n",
       "      <th>has_top_words</th>\n",
       "      <th>length</th>\n",
       "      <th>distance</th>\n",
       "    </tr>\n",
       "  </thead>\n",
       "  <tbody>\n",
       "    <tr>\n",
       "      <td>24478</td>\n",
       "      <td>&lt;http://dbpedia.org/resource/Joe_Biden&gt;</td>\n",
       "      <td>Joe Biden</td>\n",
       "      <td>joseph robinette joe biden jr dosf rbnt badn b...</td>\n",
       "      <td>True</td>\n",
       "      <td>414</td>\n",
       "      <td>0.702130</td>\n",
       "    </tr>\n",
       "    <tr>\n",
       "      <td>57108</td>\n",
       "      <td>&lt;http://dbpedia.org/resource/Hillary_Rodham_Cl...</td>\n",
       "      <td>Hillary Rodham Clinton</td>\n",
       "      <td>hillary diane rodham clinton hlri dan rdm klnt...</td>\n",
       "      <td>True</td>\n",
       "      <td>580</td>\n",
       "      <td>0.747243</td>\n",
       "    </tr>\n",
       "    <tr>\n",
       "      <td>4408</td>\n",
       "      <td>&lt;http://dbpedia.org/resource/Joe_Lieberman&gt;</td>\n",
       "      <td>Joe Lieberman</td>\n",
       "      <td>joseph isadore joe lieberman born february 24 ...</td>\n",
       "      <td>False</td>\n",
       "      <td>457</td>\n",
       "      <td>0.764419</td>\n",
       "    </tr>\n",
       "    <tr>\n",
       "      <td>48693</td>\n",
       "      <td>&lt;http://dbpedia.org/resource/Artur_Davis&gt;</td>\n",
       "      <td>Artur Davis</td>\n",
       "      <td>artur genestre davis born october 9 1967 is an...</td>\n",
       "      <td>True</td>\n",
       "      <td>371</td>\n",
       "      <td>0.764885</td>\n",
       "    </tr>\n",
       "    <tr>\n",
       "      <td>46811</td>\n",
       "      <td>&lt;http://dbpedia.org/resource/Jeff_Sessions&gt;</td>\n",
       "      <td>Jeff Sessions</td>\n",
       "      <td>jefferson beauregard jeff sessions iii born de...</td>\n",
       "      <td>False</td>\n",
       "      <td>230</td>\n",
       "      <td>0.769784</td>\n",
       "    </tr>\n",
       "  </tbody>\n",
       "</table>\n",
       "</div>"
      ],
      "text/plain": [
       "                                                     URI  \\\n",
       "24478            <http://dbpedia.org/resource/Joe_Biden>   \n",
       "57108  <http://dbpedia.org/resource/Hillary_Rodham_Cl...   \n",
       "4408         <http://dbpedia.org/resource/Joe_Lieberman>   \n",
       "48693          <http://dbpedia.org/resource/Artur_Davis>   \n",
       "46811        <http://dbpedia.org/resource/Jeff_Sessions>   \n",
       "\n",
       "                         name  \\\n",
       "24478               Joe Biden   \n",
       "57108  Hillary Rodham Clinton   \n",
       "4408            Joe Lieberman   \n",
       "48693             Artur Davis   \n",
       "46811           Jeff Sessions   \n",
       "\n",
       "                                                    text  has_top_words  \\\n",
       "24478  joseph robinette joe biden jr dosf rbnt badn b...           True   \n",
       "57108  hillary diane rodham clinton hlri dan rdm klnt...           True   \n",
       "4408   joseph isadore joe lieberman born february 24 ...          False   \n",
       "48693  artur genestre davis born october 9 1967 is an...           True   \n",
       "46811  jefferson beauregard jeff sessions iii born de...          False   \n",
       "\n",
       "       length  distance  \n",
       "24478     414  0.702130  \n",
       "57108     580  0.747243  \n",
       "4408      457  0.764419  \n",
       "48693     371  0.764885  \n",
       "46811     230  0.769784  "
      ]
     },
     "execution_count": 65,
     "metadata": {},
     "output_type": "execute_result"
    }
   ],
   "source": [
    "def tfidf_query_knn2(name, return_distance=False, n_neighbors=10):\n",
    "    query_index = pd.Index(data['name']).get_loc(name)\n",
    "    query = tfidf_word_count[query_index]\n",
    "    distances, indices = tfidf_model2.kneighbors(query, n_neighbors=n_neighbors+1)\n",
    "    return distances, data.iloc[indices[0][1:]]\n",
    "#nearest_neighbors_cosine = model2_tf_idf.query(wiki[wiki['name'] == 'Barack Obama'], label='name', k=100)\n",
    "distances, rows2 = tfidf_query_knn2(\"Barack Obama\", n_neighbors=100)\n",
    "#nearest_neighbors_cosine = nearest_neighbors_cosine.join(wiki[['name', 'length']], on={'reference_label':'name'})\n",
    "rows2[\"distance\"] = distances[0][1:]\n",
    "#print(len(rows), len(distances[0][1:]))\n",
    "rows2.head()"
   ]
  },
  {
   "cell_type": "code",
   "execution_count": 69,
   "metadata": {},
   "outputs": [
    {
     "data": {
      "text/plain": [
       "335.98"
      ]
     },
     "execution_count": 69,
     "metadata": {},
     "output_type": "execute_result"
    }
   ],
   "source": [
    "rows2['length'].sum() / 100"
   ]
  },
  {
   "cell_type": "markdown",
   "metadata": {},
   "source": [
    "From a glance at the above table, things look better.  For example, we now see Joe Biden as Barack Obama's nearest neighbor!  We also see Hillary Clinton on the list.  This list looks even more plausible as nearest neighbors of Barack Obama.\n",
    "\n",
    "Let's make a plot to better visualize the effect of having used cosine distance in place of Euclidean on our TF-IDF vectors."
   ]
  },
  {
   "cell_type": "code",
   "execution_count": 47,
   "metadata": {},
   "outputs": [
    {
     "data": {
      "text/plain": [
       "<Figure size 756x324 with 0 Axes>"
      ]
     },
     "metadata": {},
     "output_type": "display_data"
    },
    {
     "data": {
      "image/png": "[encoded data removed]",
      "text/plain": [
       "<Figure size 756x324 with 1 Axes>"
      ]
     },
     "metadata": {
      "needs_background": "light"
     },
     "output_type": "display_data"
    }
   ],
   "source": [
    "plt.figure(figsize=(10.5,4.5))\n",
    "plt.figure(figsize=(10.5,4.5))\n",
    "plt.hist(data['length'], 50, color='k', edgecolor='None', histtype='stepfilled', density=True,\n",
    "         label='Entire Wikipedia', zorder=3, alpha=0.8)\n",
    "plt.hist(rows['length'], 50, color='r', edgecolor='None', histtype='stepfilled', density=True,\n",
    "         label='100 NNs of Obama (Euclidean)', zorder=10, alpha=0.8)\n",
    "plt.hist(rows2['length'], 50, color='b', edgecolor='None', histtype='stepfilled', density=True,\n",
    "         label='100 NNs of Obama (cosine)', zorder=11, alpha=0.8)\n",
    "plt.axvline(x=data[data['name'] == 'Barack Obama']['length'].iloc[0], color='k', linestyle='--', linewidth=4,\n",
    "           label='Length of Barack Obama', zorder=2)\n",
    "plt.axvline(x=data[data['name'] == 'Joe Biden']['length'].iloc[0], color='g', linestyle='--', linewidth=4,\n",
    "           label='Length of Joe Biden', zorder=1)\n",
    "plt.axis([0, 1000, 0, 0.04])\n",
    "plt.legend(loc='best', prop={'size':15})\n",
    "plt.title('Distribution of document length')\n",
    "plt.xlabel('# of words')\n",
    "plt.ylabel('Percentage')\n",
    "plt.rcParams.update({'font.size': 16})\n",
    "plt.tight_layout()"
   ]
  },
  {
   "cell_type": "markdown",
   "metadata": {},
   "source": [
    "Indeed, the 100 nearest neighbors using cosine distance provide a sampling across the range of document lengths, rather than just short articles like Euclidean distance provided."
   ]
  },
  {
   "cell_type": "markdown",
   "metadata": {},
   "source": [
    "**Moral of the story**: In deciding the features and distance measures, check if they produce results that make sense for your particular application."
   ]
  },
  {
   "cell_type": "code",
   "execution_count": null,
   "metadata": {},
   "outputs": [],
   "source": []
  }
 ],
 "metadata": {
  "kernelspec": {
   "display_name": "Python 3",
   "language": "python",
   "name": "python3"
  },
  "language_info": {
   "codemirror_mode": {
    "name": "ipython",
    "version": 3
   },
   "file_extension": ".py",
   "mimetype": "text/x-python",
   "name": "python",
   "nbconvert_exporter": "python",
   "pygments_lexer": "ipython3",
   "version": "3.7.4"
  }
 },
 "nbformat": 4,
 "nbformat_minor": 1
}
